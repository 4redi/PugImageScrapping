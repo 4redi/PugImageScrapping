{
 "cells": [
  {
   "cell_type": "code",
   "execution_count": 1,
   "metadata": {},
   "outputs": [
    {
     "name": "stdout",
     "output_type": "stream",
     "text": [
      "https://images.google.com/\n"
     ]
    }
   ],
   "source": [
    "import mechanicalsoup\n",
    "\n",
    "browser=mechanicalsoup.StatefulBrowser()\n",
    "url='https://images.google.com/'\n",
    "\n",
    "browser.open(url)\n",
    "print(browser.get_url())"
   ]
  },
  {
   "cell_type": "code",
   "execution_count": 8,
   "metadata": {},
   "outputs": [
    {
     "name": "stdout",
     "output_type": "stream",
     "text": [
      "<input name=\"sca_esv\" type=\"hidden\" value=\"2fb4f24297e46be4\"/>\n",
      "<input name=\"sca_upv\" type=\"hidden\" value=\"1\"/>\n",
      "<input name=\"hl\" type=\"hidden\" value=\"sq\"/>\n",
      "<input name=\"gbv\" type=\"hidden\" value=\"1\"/>\n",
      "<input name=\"ie\" type=\"hidden\" value=\"ISO-8859-1\"/>\n",
      "<input name=\"tbm\" type=\"hidden\" value=\"isch\"/>\n",
      "<input name=\"oq\" type=\"hidden\"/>\n",
      "<input name=\"aqs\" type=\"hidden\"/>\n",
      "<input class=\"MhzMZd\" name=\"q\" type=\"text\" value=\"pugs\"/>\n",
      "<input class=\"xB0fq\" type=\"submit\" value=\"Kërko\"/>\n",
      "The url for pugs https://www.google.com/search?sca_esv=2fb4f24297e46be4&sca_upv=1&hl=sq&gbv=1&ie=ISO-8859-1&tbm=isch&oq=&aqs=&q=pugs\n",
      "response <!DOCTYPE html PUBLIC \"-//WAPFORUM//DTD XHTML Mobile 1.0//EN\" \"http://www.wapforum.org/DTD/xhtml-mobile10.dtd\"><html xmlns=\"http://www.w3.org/1999/xhtml\" lang=\"sq\"><head><meta content=\"application/xhtml+xml; charset=UTF-8\" http-equiv=\"Content-Type\"/><meta content=\"no-cache\" name=\"Cache-Control\"/><title>pugs - Kërko në Google</title><style>a{text-decoration:none;color:inherit}a:hover{text-decoration:underline}a img{border:0}body{font-family:arial,sans-serif;padding:8px;margin:0 auto;max-width:700\n"
     ]
    }
   ],
   "source": [
    "browser.get_current_page()\n",
    "\n",
    "browser.select_form()\n",
    "browser.get_current_form().print_summary()\n",
    "\n",
    "search_prompt='pugs'\n",
    "browser['q']=search_prompt\n",
    "\n",
    "\n",
    "browser.launch_browser()\n",
    "response=browser.submit_selected()\n",
    "\n",
    "\n",
    "print(f'The new url for {search_prompt} is:', browser.get_url())\n",
    "print('response is:',response.text[:500])\n"
   ]
  },
  {
   "cell_type": "code",
   "execution_count": 13,
   "metadata": {},
   "outputs": [
    {
     "data": {
      "text/plain": [
       "['/images/branding/searchlogo/1x/googlelogo_desk_heirloom_color_150x55dp.gif',\n",
       " 'https://encrypted-tbn0.gstatic.com/images?q=tbn:ANd9GcTA6_OSbzlwuztDn4MZmilGnW5T-R_8MS6uCycRav6YPOLLPO33oHhJSMqRnw&s',\n",
       " 'https://encrypted-tbn0.gstatic.com/images?q=tbn:ANd9GcRyxCRaaf3cZkMHjcjs3TiQ1dyqW-_mogrWKwejKPcnMpvt0oPQLpq1kqT4phg&s',\n",
       " 'https://encrypted-tbn0.gstatic.com/images?q=tbn:ANd9GcRlK_UR22RDVHSzm6UKiWkGA-le1y5fp5HarCPsGdDTJloRo1hBEbAbJMwlEew&s',\n",
       " 'https://encrypted-tbn0.gstatic.com/images?q=tbn:ANd9GcQC0urXXG72Glk273h_BK6roMy2q_rvI0HhHzvw0BY9UWnzXnlHQLKltuNAuw&s',\n",
       " 'https://encrypted-tbn0.gstatic.com/images?q=tbn:ANd9GcSVuW_URnTmhgTC1lnS7Y1iHxO9PUZFP9igq_HwTU4sk4GSEmxuqQT4k0Xn8qQ&s',\n",
       " 'https://encrypted-tbn0.gstatic.com/images?q=tbn:ANd9GcRjyOAqjrjECBGwGlWkO0m1iaOeQAZg5q9dm93TiNIrONl-k3lybQDDc9I4I-s&s',\n",
       " 'https://encrypted-tbn0.gstatic.com/images?q=tbn:ANd9GcTM03-2v_f0apw9HDU5_1MK_nZ1pqlOqY2pthtV0Izr3DbNHeuRZvEWRIrs2VM&s',\n",
       " 'https://encrypted-tbn0.gstatic.com/images?q=tbn:ANd9GcQTdGdKKocBiq5tzFbnn556V0BIqBv8U-Ke2pjcBoAGw3pBStyOX20TNrtlzA&s',\n",
       " 'https://encrypted-tbn0.gstatic.com/images?q=tbn:ANd9GcT7HHR9qN1y2XVyPljC6S_dBYxSfFWPqWceTaL8nNRmY9Z8xlnqRwBK_psrFd8&s',\n",
       " 'https://encrypted-tbn0.gstatic.com/images?q=tbn:ANd9GcQ3YlL707Qetd_WRMrFKNVr2MEP_nwX3lYppTb_mlQBQIN6AxO-qlVYvxZRoKg&s',\n",
       " 'https://encrypted-tbn0.gstatic.com/images?q=tbn:ANd9GcRspxHHXgB0AJfPROMG7QV6F-lTrsN8CN-EIgz8d5V0-oW0U0w4jWtNPMUaDQ&s',\n",
       " 'https://encrypted-tbn0.gstatic.com/images?q=tbn:ANd9GcTuDSXN4HVaK_Xu52yI2K_XmXnaB-cjNHrh7HLBysA-kUAc5bb-QLp1rRaVGA&s',\n",
       " 'https://encrypted-tbn0.gstatic.com/images?q=tbn:ANd9GcSIt27Zhy5OLXntlhvNiZbQZ_m8pSizY3kCoQhmYRZMRzAPrXEp1wmOmENKVt4&s',\n",
       " 'https://encrypted-tbn0.gstatic.com/images?q=tbn:ANd9GcRKddDO8By8iKYj6sWjKKrFs4x4gOTtpOn6fDu0pyY0GiGUsLZYv7VkvRF00A4&s',\n",
       " 'https://encrypted-tbn0.gstatic.com/images?q=tbn:ANd9GcQpqJTBHyMH7Ln1jVqiGu52eZIS55PlDRSyvyQbyh0SEJVPq86XlMj7GHg35g&s',\n",
       " 'https://encrypted-tbn0.gstatic.com/images?q=tbn:ANd9GcSgckdeKw2wYmiiGgsWRyPKBN4yw0JaDsFftRvpmmLQUTL95MJdN333Q0pLUiE&s',\n",
       " 'https://encrypted-tbn0.gstatic.com/images?q=tbn:ANd9GcRglM4jLwfnmpArXNGDrUqfO-WEF1BkOzgGtsO6vXxnNgFSmw2ooI-WfVU6Dj8&s',\n",
       " 'https://encrypted-tbn0.gstatic.com/images?q=tbn:ANd9GcQD3rlbA3Pye5gJc8xVsU9OJEKIVJiiRfUXWPzeQIIz31B5HDvACoYsBptJ_g&s',\n",
       " 'https://encrypted-tbn0.gstatic.com/images?q=tbn:ANd9GcSAps9jSR7XrgvYirtV0wLeeJsS_sx5B-_sHZG9d2qHfuMla8XGQB0R38RgE8I&s',\n",
       " 'https://encrypted-tbn0.gstatic.com/images?q=tbn:ANd9GcTxcQjz7yOmiXuV-VH-ghxY8FMETfwzBe7W4aSQO0JyXWAyUKLk_pkDx3KRqlg&s']"
      ]
     },
     "execution_count": 13,
     "metadata": {},
     "output_type": "execute_result"
    }
   ],
   "source": [
    "new_url=browser.get_url()\n",
    "browser.open(new_url)\n",
    "\n",
    "page=browser.get_current_page()\n",
    "pug_images=page.find_all('img')\n",
    "\n",
    "images=[]\n",
    "for image in pug_images:\n",
    "    image=image.get('src')\n",
    "    images.append(image)\n",
    "images"
   ]
  },
  {
   "cell_type": "code",
   "execution_count": 14,
   "metadata": {},
   "outputs": [
    {
     "data": {
      "text/plain": [
       "['https://encrypted-tbn0.gstatic.com/images?q=tbn:ANd9GcTA6_OSbzlwuztDn4MZmilGnW5T-R_8MS6uCycRav6YPOLLPO33oHhJSMqRnw&s',\n",
       " 'https://encrypted-tbn0.gstatic.com/images?q=tbn:ANd9GcRyxCRaaf3cZkMHjcjs3TiQ1dyqW-_mogrWKwejKPcnMpvt0oPQLpq1kqT4phg&s',\n",
       " 'https://encrypted-tbn0.gstatic.com/images?q=tbn:ANd9GcRlK_UR22RDVHSzm6UKiWkGA-le1y5fp5HarCPsGdDTJloRo1hBEbAbJMwlEew&s',\n",
       " 'https://encrypted-tbn0.gstatic.com/images?q=tbn:ANd9GcQC0urXXG72Glk273h_BK6roMy2q_rvI0HhHzvw0BY9UWnzXnlHQLKltuNAuw&s',\n",
       " 'https://encrypted-tbn0.gstatic.com/images?q=tbn:ANd9GcSVuW_URnTmhgTC1lnS7Y1iHxO9PUZFP9igq_HwTU4sk4GSEmxuqQT4k0Xn8qQ&s',\n",
       " 'https://encrypted-tbn0.gstatic.com/images?q=tbn:ANd9GcRjyOAqjrjECBGwGlWkO0m1iaOeQAZg5q9dm93TiNIrONl-k3lybQDDc9I4I-s&s',\n",
       " 'https://encrypted-tbn0.gstatic.com/images?q=tbn:ANd9GcTM03-2v_f0apw9HDU5_1MK_nZ1pqlOqY2pthtV0Izr3DbNHeuRZvEWRIrs2VM&s',\n",
       " 'https://encrypted-tbn0.gstatic.com/images?q=tbn:ANd9GcQTdGdKKocBiq5tzFbnn556V0BIqBv8U-Ke2pjcBoAGw3pBStyOX20TNrtlzA&s',\n",
       " 'https://encrypted-tbn0.gstatic.com/images?q=tbn:ANd9GcT7HHR9qN1y2XVyPljC6S_dBYxSfFWPqWceTaL8nNRmY9Z8xlnqRwBK_psrFd8&s',\n",
       " 'https://encrypted-tbn0.gstatic.com/images?q=tbn:ANd9GcQ3YlL707Qetd_WRMrFKNVr2MEP_nwX3lYppTb_mlQBQIN6AxO-qlVYvxZRoKg&s',\n",
       " 'https://encrypted-tbn0.gstatic.com/images?q=tbn:ANd9GcRspxHHXgB0AJfPROMG7QV6F-lTrsN8CN-EIgz8d5V0-oW0U0w4jWtNPMUaDQ&s',\n",
       " 'https://encrypted-tbn0.gstatic.com/images?q=tbn:ANd9GcTuDSXN4HVaK_Xu52yI2K_XmXnaB-cjNHrh7HLBysA-kUAc5bb-QLp1rRaVGA&s',\n",
       " 'https://encrypted-tbn0.gstatic.com/images?q=tbn:ANd9GcSIt27Zhy5OLXntlhvNiZbQZ_m8pSizY3kCoQhmYRZMRzAPrXEp1wmOmENKVt4&s',\n",
       " 'https://encrypted-tbn0.gstatic.com/images?q=tbn:ANd9GcRKddDO8By8iKYj6sWjKKrFs4x4gOTtpOn6fDu0pyY0GiGUsLZYv7VkvRF00A4&s',\n",
       " 'https://encrypted-tbn0.gstatic.com/images?q=tbn:ANd9GcQpqJTBHyMH7Ln1jVqiGu52eZIS55PlDRSyvyQbyh0SEJVPq86XlMj7GHg35g&s',\n",
       " 'https://encrypted-tbn0.gstatic.com/images?q=tbn:ANd9GcSgckdeKw2wYmiiGgsWRyPKBN4yw0JaDsFftRvpmmLQUTL95MJdN333Q0pLUiE&s',\n",
       " 'https://encrypted-tbn0.gstatic.com/images?q=tbn:ANd9GcRglM4jLwfnmpArXNGDrUqfO-WEF1BkOzgGtsO6vXxnNgFSmw2ooI-WfVU6Dj8&s',\n",
       " 'https://encrypted-tbn0.gstatic.com/images?q=tbn:ANd9GcQD3rlbA3Pye5gJc8xVsU9OJEKIVJiiRfUXWPzeQIIz31B5HDvACoYsBptJ_g&s',\n",
       " 'https://encrypted-tbn0.gstatic.com/images?q=tbn:ANd9GcSAps9jSR7XrgvYirtV0wLeeJsS_sx5B-_sHZG9d2qHfuMla8XGQB0R38RgE8I&s',\n",
       " 'https://encrypted-tbn0.gstatic.com/images?q=tbn:ANd9GcTxcQjz7yOmiXuV-VH-ghxY8FMETfwzBe7W4aSQO0JyXWAyUKLk_pkDx3KRqlg&s']"
      ]
     },
     "execution_count": 14,
     "metadata": {},
     "output_type": "execute_result"
    }
   ],
   "source": [
    "images=[image for image in images if image.startswith('https')]\n",
    "images"
   ]
  },
  {
   "cell_type": "code",
   "execution_count": 18,
   "metadata": {},
   "outputs": [],
   "source": [
    "import os\n",
    "import wget # download files from the web\n",
    "\n",
    "\n",
    "path=os.getcwd()\n",
    "path=os.path.join(path,search_prompt)\n",
    "os.mkdir(path)"
   ]
  },
  {
   "cell_type": "code",
   "execution_count": 20,
   "metadata": {},
   "outputs": [],
   "source": [
    "count_images=0\n",
    "for image in images:\n",
    "    save_as=os.path.join(path,'puggie'+str(count_images)+'.jpg')\n",
    "    wget.download(image,save_as)\n",
    "    count_images+=1"
   ]
  },
  {
   "cell_type": "markdown",
   "metadata": {},
   "source": [
    "# A nice and simple web scrapping google images project to scrap pug images online (my favorite dog breed!)"
   ]
  }
 ],
 "metadata": {
  "kernelspec": {
   "display_name": "ImageScrapping",
   "language": "python",
   "name": "python3"
  },
  "language_info": {
   "codemirror_mode": {
    "name": "ipython",
    "version": 3
   },
   "file_extension": ".py",
   "mimetype": "text/x-python",
   "name": "python",
   "nbconvert_exporter": "python",
   "pygments_lexer": "ipython3",
   "version": "3.12.5"
  }
 },
 "nbformat": 4,
 "nbformat_minor": 2
}
